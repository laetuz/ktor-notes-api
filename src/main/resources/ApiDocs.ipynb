{
 "cells": [
  {
   "metadata": {},
   "cell_type": "markdown",
   "source": "This is the API documentation for Notes-api"
  },
  {
   "metadata": {
    "collapsed": true,
    "ExecuteTime": {
     "end_time": "2025-07-29T11:46:59.842673Z",
     "start_time": "2025-07-29T11:46:59.802461Z"
    }
   },
   "cell_type": "code",
   "source": [
    "\n",
    "\n",
    "val baseUrl = \"http://127.0.0.1:8081\"\n",
    "\n"
   ],
   "outputs": [],
   "execution_count": 18
  },
  {
   "metadata": {
    "ExecuteTime": {
     "end_time": "2025-07-31T05:29:30.010091Z",
     "start_time": "2025-07-31T05:29:29.734006Z"
    }
   },
   "cell_type": "code",
   "source": [
    "import java.util.UUID\n",
    "\n",
    "@Serializable\n",
    "data class Note(\n",
    "    val id: String? = UUID.randomUUID().toString(),\n",
    "    val title: String?,\n",
    "    val content: String?,\n",
    "    val createdAt: Long? = System.currentTimeMillis(),\n",
    "    val updatedAt: Long? = null\n",
    ")\n",
    "\n",
    "@Serializable\n",
    "data class NeoUser(\n",
    "    val id: String? = UUID.randomUUID().toString(),\n",
    "    val username: String,\n",
    "    val email: String,\n",
    "    val password: String,\n",
    "    val createdAt: Long? = System.currentTimeMillis()\n",
    ")"
   ],
   "outputs": [],
   "execution_count": 138
  },
  {
   "metadata": {
    "ExecuteTime": {
     "end_time": "2025-07-31T06:47:07.953053Z",
     "start_time": "2025-07-31T06:47:07.781266Z"
    }
   },
   "cell_type": "code",
   "source": [
    "//Ktor Client initialization\n",
    "\n",
    "import io.ktor.client.HttpClient\n",
    "import io.ktor.client.plugins.contentnegotiation.ContentNegotiation\n",
    "import io.ktor.client.request.get\n",
    "import io.ktor.serialization.kotlinx.json.json\n",
    "\n",
    "val ktorClient = HttpClient(CIO) {\n",
    "    install(ContentNegotiation) { json() }\n",
    "}"
   ],
   "outputs": [],
   "execution_count": 170
  },
  {
   "metadata": {
    "ExecuteTime": {
     "end_time": "2025-07-31T06:06:29.818993Z",
     "start_time": "2025-07-31T06:06:29.608755Z"
    }
   },
   "cell_type": "code",
   "source": [
    "import io.ktor.client.statement.HttpResponse\n",
    "import kotlinx.coroutines.runBlocking\n",
    "\n",
    "// Base URL\n",
    "runBlocking {\n",
    "    val lol = ktorClient.get(baseUrl)\n",
    "    print(lol.deserializeJson())\n",
    "}"
   ],
   "outputs": [
    {
     "name": "stdout",
     "output_type": "stream",
     "text": [
      "Hello World"
     ]
    }
   ],
   "execution_count": 161
  },
  {
   "metadata": {
    "ExecuteTime": {
     "end_time": "2025-07-31T06:58:21.401493Z",
     "start_time": "2025-07-31T06:58:20.925780Z"
    }
   },
   "cell_type": "code",
   "source": [
    "//get notes\n",
    "runBlocking {\n",
    "    val notes = ktorClient.get(\"$baseUrl/notes\")\n",
    "    println(\"response: $notes\")\n",
    "    println(\"data: ${notes.deserializeJson()}\")\n",
    "}"
   ],
   "outputs": [
    {
     "name": "stdout",
     "output_type": "stream",
     "text": [
      "response: HttpResponse[http://127.0.0.1:8081/notes, 200 OK]\n",
      "data: [{\"id\":\"433a1af4-bf84-485f-bb78-72e8b66873c1\",\"title\":\"Legend\",\"content\":\"hahahahah\",\"createdAt\":1753873160151,\"updatedAt\":1753873181963},{\"id\":\"eaafdb26-f7f1-4de5-94a1-0723cbf74ad3\",\"title\":\"Two\",\"content\":\"Content two\",\"createdAt\":1753884344531,\"updatedAt\":1753884344580},{\"id\":\"e266ac44-0757-4e69-906e-c4ab9ac86607\",\"title\":\"Four\",\"content\":\"Content four\",\"createdAt\":1753889994091,\"updatedAt\":1753889994111},{\"id\":\"536eb286-b325-49e1-9934-0d13d154d02f\",\"title\":\"The Alchemist!!\",\"content\":\"Paulo Coelho wrote this book.\",\"createdAt\":1753884424596,\"updatedAt\":1753890595193}]\n"
     ]
    }
   ],
   "execution_count": 182
  },
  {
   "metadata": {
    "ExecuteTime": {
     "end_time": "2025-07-30T15:39:54.157799Z",
     "start_time": "2025-07-30T15:39:53.772305Z"
    }
   },
   "cell_type": "code",
   "source": [
    "import io.ktor.client.call.body\n",
    "import io.ktor.client.request.post\n",
    "import io.ktor.client.request.setBody\n",
    "import io.ktor.http.ContentType\n",
    "import io.ktor.http.contentType\n",
    "import io.ktor.http.headers\n",
    "import Line_82_jupyter.Note\n",
    "\n",
    "//create note\n",
    "runBlocking {\n",
    "    val newNote = Note(\n",
    "        title = \"Four\",\n",
    "        content = \"Content four\"\n",
    "    )\n",
    "    val postNote = ktorClient.post(\"$baseUrl/notes\"){\n",
    "        headers {\n",
    "            contentType(ContentType.Application.Json)\n",
    "        }\n",
    "        setBody(newNote)\n",
    "    }\n",
    "    println(\"response: $postNote\")\n",
    "    println(\"data: ${postNote.deserializeJson()}\")\n",
    "}"
   ],
   "outputs": [
    {
     "name": "stdout",
     "output_type": "stream",
     "text": [
      "response: HttpResponse[http://127.0.0.1:8081/notes, 200 OK]\n",
      "data: {\"id\":\"e266ac44-0757-4e69-906e-c4ab9ac86607\",\"title\":\"Four\",\"content\":\"Content four\",\"createdAt\":1753889994091,\"updatedAt\":1753889994111}\n"
     ]
    }
   ],
   "execution_count": 109
  },
  {
   "metadata": {
    "ExecuteTime": {
     "end_time": "2025-07-30T15:49:55.224271Z",
     "start_time": "2025-07-30T15:49:54.845535Z"
    }
   },
   "cell_type": "code",
   "source": [
    "import Line_82_jupyter.Note\n",
    "import io.ktor.client.request.put\n",
    "\n",
    "//update note\n",
    "runBlocking {\n",
    "    val id = \"536eb286-b325-49e1-9934-0d13d154d02f\"\n",
    "    val updatedNote = Note(\n",
    "        title = \"The Alchemist!!\",\n",
    "        content = \"Paulo Coelho wrote this book.\"\n",
    "    )\n",
    "\n",
    "    val result = ktorClient.put(\"$baseUrl/notes/$id\") {\n",
    "        headers {\n",
    "            contentType(ContentType.Application.Json)\n",
    "        }\n",
    "        setBody(updatedNote)\n",
    "    }\n",
    "\n",
    "    println(\"response: $result\")\n",
    "    println(\"data: ${result.deserializeJson()}\")\n",
    "}"
   ],
   "outputs": [
    {
     "name": "stdout",
     "output_type": "stream",
     "text": [
      "response: HttpResponse[http://127.0.0.1:8081/notes/536eb286-b325-49e1-9934-0d13d154d02f, 200 OK]\n",
      "data: {\"id\":\"536eb286-b325-49e1-9934-0d13d154d02f\",\"title\":\"The Alchemist!!\",\"content\":\"Paulo Coelho wrote this book.\",\"createdAt\":1753884424596,\"updatedAt\":1753890595193}\n"
     ]
    }
   ],
   "execution_count": 116
  },
  {
   "metadata": {
    "ExecuteTime": {
     "end_time": "2025-07-30T14:53:40.024194Z",
     "start_time": "2025-07-30T14:53:39.792092Z"
    }
   },
   "cell_type": "code",
   "source": [
    "import io.ktor.client.request.delete\n",
    "\n",
    "//delete note\n",
    "runBlocking {\n",
    "    val id = \"576e8f7f-9089-445b-8992-15fa839e2456\"\n",
    "    val deleteNote = ktorClient.delete(\"$baseUrl/notes/$id\")\n",
    "\n",
    "    println(\"response: $deleteNote\")\n",
    "    println(\"data: ${deleteNote.deserializeJson()}\")\n",
    "}"
   ],
   "outputs": [
    {
     "name": "stdout",
     "output_type": "stream",
     "text": [
      "response: HttpResponse[http://127.0.0.1:8081/notes/576e8f7f-9089-445b-8992-15fa839e2456, 200 OK]\n",
      "data: Note deleted.\n"
     ]
    }
   ],
   "execution_count": 105
  },
  {
   "metadata": {},
   "cell_type": "markdown",
   "source": [
    "AUTH Route\n",
    "---\n",
    "---"
   ]
  },
  {
   "metadata": {
    "ExecuteTime": {
     "end_time": "2025-07-31T04:34:50.926109Z",
     "start_time": "2025-07-31T04:34:50.766728Z"
    }
   },
   "cell_type": "code",
   "source": [
    "//Ktor Client initialization\n",
    "\n",
    "import io.ktor.client.HttpClient\n",
    "import io.ktor.client.engine.cio.CIO\n",
    "import io.ktor.client.plugins.auth.Auth\n",
    "import io.ktor.client.plugins.auth.providers.BasicAuthCredentials\n",
    "import io.ktor.client.plugins.auth.providers.basic\n",
    "import io.ktor.client.plugins.contentnegotiation.ContentNegotiation\n",
    "import io.ktor.client.request.get\n",
    "import io.ktor.serialization.kotlinx.json.json\n",
    "\n",
    "val ktorClientAuth = HttpClient(CIO) {\n",
    "    install(Auth) {\n",
    "        basic {\n",
    "            credentials {\n",
    "                BasicAuthCredentials(\n",
    "                    username = \"jetbrains\",\n",
    "                    password = \"foobar\"\n",
    "                )\n",
    "            }\n",
    "        }\n",
    "    }\n",
    "}"
   ],
   "outputs": [],
   "execution_count": 132
  },
  {
   "metadata": {
    "ExecuteTime": {
     "end_time": "2025-07-31T04:39:04.368342Z",
     "start_time": "2025-07-31T04:39:03.764747Z"
    }
   },
   "cell_type": "code",
   "source": [
    "runBlocking {\n",
    "    val response = ktorClientAuth.get(\"$baseUrl/auth\")\n",
    "    println(\"response: $response\")\n",
    "    println(\"data: ${response.deserializeJson()}\")\n",
    "}"
   ],
   "outputs": [
    {
     "name": "stdout",
     "output_type": "stream",
     "text": [
      "response: HttpResponse[http://127.0.0.1:8081/auth, 200 OK]\n",
      "data: Hello, jetbrains letsgo\n"
     ]
    }
   ],
   "execution_count": 136
  },
  {
   "metadata": {
    "ExecuteTime": {
     "end_time": "2025-07-31T07:26:29.192812Z",
     "start_time": "2025-07-31T07:26:28.499042Z"
    }
   },
   "cell_type": "code",
   "source": [
    "//login user\n",
    "\n",
    "runBlocking {\n",
    "    val response = ktorClient.get(\"$baseUrl/auth\") {\n",
    "        headers.append(\"Username\", \"martin2\")\n",
    "        headers.append(\"Password\", \"martin12\")\n",
    "    }\n",
    "    println(\"response: $response\")\n",
    "    println(\"data: ${response.deserializeJson()}\")\n",
    "}"
   ],
   "outputs": [
    {
     "name": "stdout",
     "output_type": "stream",
     "text": [
      "response: HttpResponse[http://127.0.0.1:8081/auth, 200 OK]\n",
      "data: Nope\n"
     ]
    }
   ],
   "execution_count": 208
  },
  {
   "metadata": {
    "ExecuteTime": {
     "end_time": "2025-07-31T05:40:27.959375Z",
     "start_time": "2025-07-31T05:40:27.192447Z"
    }
   },
   "cell_type": "code",
   "source": [
    "//register a user\n",
    "import Line_146_jupyter.NeoUser\n",
    "\n",
    "runBlocking {\n",
    "    val newUser = NeoUser(\n",
    "        username = \"martin3\",\n",
    "        password = \"martin1\",\n",
    "        email = \"martin2@g.com\"\n",
    "    )\n",
    "    val response = ktorClient.post(\"$baseUrl/auth\") {\n",
    "        headers {\n",
    "            contentType(ContentType.Application.Json)\n",
    "        }\n",
    "        setBody(newUser)\n",
    "    }\n",
    "    println(\"response: $response\")\n",
    "    println(\"data: ${response.deserializeJson()}\")\n",
    "}"
   ],
   "outputs": [
    {
     "name": "stdout",
     "output_type": "stream",
     "text": [
      "response: HttpResponse[http://127.0.0.1:8081/auth, 200 OK]\n",
      "data: {\"id\":\"8b4904d4-5561-4df6-a1fe-ff00d5dafe3d\",\"username\":\"martin2\",\"email\":\"martin2@g.com\",\"password\":\"$2a$12$/SEKl032ImHZpsM45toef.9Oy7KB30zsZoMMqCLetEghzNeZzJGBu\",\"createdAt\":1753940427488}\n"
     ]
    }
   ],
   "execution_count": 148
  },
  {
   "metadata": {
    "ExecuteTime": {
     "end_time": "2025-07-31T06:48:20.084952Z",
     "start_time": "2025-07-31T06:48:19.663173Z"
    }
   },
   "cell_type": "code",
   "source": [
    "//get all users\n",
    "runBlocking {\n",
    "    val response = ktorClient.get(\"$baseUrl/auth/users\")\n",
    "    println(\"response: $response\")\n",
    "    println(\"data: ${response.deserializeJson()}\")\n",
    "}"
   ],
   "outputs": [
    {
     "name": "stdout",
     "output_type": "stream",
     "text": [
      "response: HttpResponse[http://127.0.0.1:8081/auth/users, 200 OK]\n",
      "data: [{\"id\":\"2ba91103-2377-4ff6-b15e-c69bac733694\",\"username\":\"martin\",\"email\":\"martin@g.com\",\"password\":\"martin1\",\"createdAt\":1753940309360},{\"id\":\"8b4904d4-5561-4df6-a1fe-ff00d5dafe3d\",\"username\":\"martin2\",\"email\":\"martin2@g.com\",\"password\":\"$2a$12$/SEKl032ImHZpsM45toef.9Oy7KB30zsZoMMqCLetEghzNeZzJGBu\",\"createdAt\":1753940427488}]\n"
     ]
    }
   ],
   "execution_count": 172
  },
  {
   "metadata": {
    "ExecuteTime": {
     "end_time": "2025-07-31T07:06:47.557926Z",
     "start_time": "2025-07-31T07:06:47.155986Z"
    }
   },
   "cell_type": "code",
   "source": [
    "//check user\n",
    "runBlocking {\n",
    "    val response = ktorClient.get(\"$baseUrl/auth/check\") {\n",
    "        headers.append(\"Username\", \"martin3\")\n",
    "    }\n",
    "    println(\"response: $response\")\n",
    "    println(\"data: ${response.deserializeJson()}\")\n",
    "}"
   ],
   "outputs": [
    {
     "name": "stdout",
     "output_type": "stream",
     "text": [
      "response: HttpResponse[http://127.0.0.1:8081/auth/check, 404 Not Found]\n",
      "data: \n"
     ]
    }
   ],
   "execution_count": 193
  }
 ],
 "metadata": {
  "kernelspec": {
   "display_name": "Kotlin",
   "language": "kotlin",
   "name": "kotlin"
  },
  "language_info": {
   "name": "kotlin",
   "version": "2.2.20-dev-4982",
   "mimetype": "text/x-kotlin",
   "file_extension": ".kt",
   "pygments_lexer": "kotlin",
   "codemirror_mode": "text/x-kotlin",
   "nbconvert_exporter": ""
  }
 },
 "nbformat": 4,
 "nbformat_minor": 0
}
