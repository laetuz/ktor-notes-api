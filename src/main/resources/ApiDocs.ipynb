{
 "cells": [
  {
   "metadata": {},
   "cell_type": "markdown",
   "source": "This is the API documentation for Notes-api"
  },
  {
   "metadata": {
    "collapsed": true,
    "ExecuteTime": {
     "end_time": "2025-07-29T11:46:59.842673Z",
     "start_time": "2025-07-29T11:46:59.802461Z"
    }
   },
   "cell_type": "code",
   "source": [
    "\n",
    "\n",
    "val baseUrl = \"http://127.0.0.1:8081\"\n",
    "\n"
   ],
   "outputs": [],
   "execution_count": 18
  },
  {
   "metadata": {
    "ExecuteTime": {
     "end_time": "2025-07-30T09:45:03.835625Z",
     "start_time": "2025-07-30T09:45:03.677724Z"
    }
   },
   "cell_type": "code",
   "source": [
    "//Ktor Client initialization\n",
    "\n",
    "import io.ktor.client.HttpClient\n",
    "import io.ktor.client.plugins.contentnegotiation.ContentNegotiation\n",
    "import io.ktor.client.request.get\n",
    "import io.ktor.serialization.kotlinx.json.json\n",
    "\n",
    "val ktorClient = HttpClient() {\n",
    "    install(ContentNegotiation) { json() }\n",
    "}"
   ],
   "outputs": [],
   "execution_count": 51
  },
  {
   "metadata": {
    "ExecuteTime": {
     "end_time": "2025-07-30T09:17:40.087251Z",
     "start_time": "2025-07-30T09:17:40.002285Z"
    }
   },
   "cell_type": "code",
   "source": [
    "import io.ktor.client.statement.HttpResponse\n",
    "import kotlinx.coroutines.runBlocking\n",
    "\n",
    "// Base URL\n",
    "runBlocking {\n",
    "    val lol = ktorClient.get(baseUrl)\n",
    "    print(lol.deserializeJson())\n",
    "}"
   ],
   "outputs": [
    {
     "name": "stdout",
     "output_type": "stream",
     "text": [
      "Hello World"
     ]
    }
   ],
   "execution_count": 34
  },
  {
   "metadata": {
    "ExecuteTime": {
     "end_time": "2025-07-30T10:59:47.770130Z",
     "start_time": "2025-07-30T10:59:47.578397Z"
    }
   },
   "cell_type": "code",
   "source": [
    "runBlocking {\n",
    "    val notes = ktorClient.get(\"$baseUrl/notes\")\n",
    "    println(\"response: $notes\")\n",
    "    println(\"data: ${notes.deserializeJson()}\")\n",
    "}"
   ],
   "outputs": [
    {
     "name": "stdout",
     "output_type": "stream",
     "text": [
      "response: HttpResponse[http://127.0.0.1:8081/notes, 200 OK]\n",
      "data: [{\"id\":\"433a1af4-bf84-485f-bb78-72e8b66873c1\",\"title\":\"Legend\",\"content\":\"hahahahah\",\"createdAt\":1753873160151,\"updatedAt\":1753873181963}]\n"
     ]
    }
   ],
   "execution_count": 70
  },
  {
   "metadata": {},
   "cell_type": "code",
   "source": [
    "import io.ktor.client.request.post\n",
    "\n",
    "runBlocking {\n",
    "    val postNote = ktorClient.post(\"$baseUrl/notes\")\n",
    "    println(\"response: $postNote\")\n",
    "    println(\"data: ${postNote.deserializeJson()}\")\n",
    "}"
   ],
   "outputs": [],
   "execution_count": null
  }
 ],
 "metadata": {
  "kernelspec": {
   "display_name": "Kotlin",
   "language": "kotlin",
   "name": "kotlin"
  },
  "language_info": {
   "name": "kotlin",
   "version": "2.2.20-dev-4982",
   "mimetype": "text/x-kotlin",
   "file_extension": ".kt",
   "pygments_lexer": "kotlin",
   "codemirror_mode": "text/x-kotlin",
   "nbconvert_exporter": ""
  }
 },
 "nbformat": 4,
 "nbformat_minor": 0
}
