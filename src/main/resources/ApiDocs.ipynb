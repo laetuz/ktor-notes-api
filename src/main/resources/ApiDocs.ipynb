{
 "cells": [
  {
   "metadata": {},
   "cell_type": "markdown",
   "source": "# This is the API documentation for Notes-api"
  },
  {
   "metadata": {},
   "cell_type": "markdown",
   "source": [
    "Theres several types of main routes:\n",
    "```\n",
    "Public routes: Notes routes without the need of authorization\n",
    "Auth routes: Authorization flow (run this before running Notes routes)\n",
    "User routes: Some user related configs\n",
    "Notes routes: The crud application with authorization\n",
    "```\n",
    "\n",
    "### Prerequisites\n",
    "⬇️️️ Please run this block below before running everything else. ⬇️"
   ]
  },
  {
   "metadata": {
    "collapsed": true,
    "ExecuteTime": {
     "end_time": "2025-08-03T14:38:35.539449Z",
     "start_time": "2025-08-03T14:38:34.764386Z"
    }
   },
   "cell_type": "code",
   "source": [
    "%use ktor-client\n",
    "import kotlinx.serialization.Serializable\n",
    "import java.util.UUID\n",
    "\n",
    "//Ktor Client initialization\n",
    "\n",
    "import io.ktor.client.HttpClient\n",
    "import io.ktor.client.plugins.contentnegotiation.ContentNegotiation\n",
    "import io.ktor.client.request.get\n",
    "import io.ktor.serialization.kotlinx.json.json\n",
    "\n",
    "val baseUrl = \"http://127.0.0.1:8081\"\n",
    "\n",
    "@Serializable\n",
    "data class Note(\n",
    "    val id: String? = UUID.randomUUID().toString(),\n",
    "    val title: String?,\n",
    "    val content: String?,\n",
    "    val createdAt: Long? = System.currentTimeMillis(),\n",
    "    val updatedAt: Long? = null\n",
    ")\n",
    "\n",
    "@Serializable\n",
    "data class NeoUser(\n",
    "    val id: String? = UUID.randomUUID().toString(),\n",
    "    val username: String,\n",
    "    val email: String,\n",
    "    val password: String,\n",
    "    val createdAt: Long? = System.currentTimeMillis()\n",
    ")\n",
    "\n",
    "fun HttpResponse.prettier(): String {\n",
    "    val prettyJson = Json { prettyPrint = true }\n",
    "    val lol = Json.parseToJsonElement(this.deserializeJson().toString())\n",
    "    return prettyJson.encodeToString(lol)\n",
    "}\n",
    "\n",
    "val ktorClient = HttpClient() {\n",
    "    install(ContentNegotiation) {\n",
    "        json()\n",
    "    }\n",
    "}"
   ],
   "outputs": [],
   "execution_count": 146
  },
  {
   "metadata": {},
   "cell_type": "markdown",
   "source": [
    "## Public Routes (Without authorization)\n",
    "```\n",
    "|-get notes\n",
    "|-create note\n",
    "|-update note\n",
    "|-delete note\n",
    "```\n",
    "\n",
    "⬇️️️ Please run this block below before running any routes from Public routes. ⬇️"
   ]
  },
  {
   "metadata": {
    "ExecuteTime": {
     "end_time": "2025-08-03T14:39:53.040537Z",
     "start_time": "2025-08-03T14:39:52.897221Z"
    }
   },
   "cell_type": "code",
   "source": [
    "import io.ktor.client.call.body\n",
    "import io.ktor.client.request.post\n",
    "import io.ktor.client.request.setBody\n",
    "import io.ktor.http.ContentType\n",
    "import io.ktor.http.contentType\n",
    "import io.ktor.http.headers\n",
    "import io.ktor.client.request.headers\n",
    "import io.ktor.client.request.put\n",
    "import io.ktor.client.request.setBody\n",
    "import io.ktor.client.request.delete"
   ],
   "outputs": [],
   "execution_count": 147
  },
  {
   "metadata": {
    "ExecuteTime": {
     "end_time": "2025-08-03T14:39:58.521711Z",
     "start_time": "2025-08-03T14:39:58.232237Z"
    }
   },
   "cell_type": "code",
   "source": [
    "//get notes\n",
    "runBlocking {\n",
    "    val notes = ktorClient.get(\"$baseUrl/notes\")\n",
    "    print(notes.prettier())\n",
    "}"
   ],
   "outputs": [
    {
     "name": "stdout",
     "output_type": "stream",
     "text": [
      "[\n",
      "    {\n",
      "        \"id\": \"433a1af4-bf84-485f-bb78-72e8b66873c1\",\n",
      "        \"userId\": \"null\",\n",
      "        \"title\": \"Legend\",\n",
      "        \"content\": \"hahahahah\",\n",
      "        \"createdAt\": 1753873160151,\n",
      "        \"updatedAt\": 1753873181963\n",
      "    },\n",
      "    {\n",
      "        \"id\": \"eaafdb26-f7f1-4de5-94a1-0723cbf74ad3\",\n",
      "        \"userId\": \"null\",\n",
      "        \"title\": \"Two\",\n",
      "        \"content\": \"Content two\",\n",
      "        \"createdAt\": 1753884344531,\n",
      "        \"updatedAt\": 1753884344580\n",
      "    },\n",
      "    {\n",
      "        \"id\": \"e266ac44-0757-4e69-906e-c4ab9ac86607\",\n",
      "        \"userId\": \"null\",\n",
      "        \"title\": \"Four\",\n",
      "        \"content\": \"Content four\",\n",
      "        \"createdAt\": 1753889994091,\n",
      "        \"updatedAt\": 1753889994111\n",
      "    },\n",
      "    {\n",
      "        \"id\": \"b20fa5b3-16b7-47c7-bdbd-8982fb41db11\",\n",
      "        \"userId\": \"null\",\n",
      "        \"title\": \"Five\",\n",
      "        \"content\": \"Content five\",\n",
      "        \"createdAt\": 1754065428562,\n",
      "        \"updatedAt\": 1754065428711\n",
      "    },\n",
      "    {\n",
      "        \"id\": \"61c2de5f-b556-4985-b8d2-3b111fe55162\",\n",
      "        \"userId\": \"null\",\n",
      "        \"title\": \"Five\",\n",
      "        \"content\": \"Content five\",\n",
      "        \"createdAt\": 1754117565024,\n",
      "        \"updatedAt\": 1754117565152\n",
      "    },\n",
      "    {\n",
      "        \"id\": \"0b6d6126-e1b7-41f0-9c43-3dc6b69c08ae\",\n",
      "        \"userId\": \"null\",\n",
      "        \"title\": \"6\",\n",
      "        \"content\": \"Content 6\",\n",
      "        \"createdAt\": 1754198683496,\n",
      "        \"updatedAt\": 1754198683558\n",
      "    },\n",
      "    {\n",
      "        \"id\": \"bacf46e2-b520-4728-b4ce-8a31158fd179\",\n",
      "        \"userId\": \"null\",\n",
      "        \"title\": \"Five\",\n",
      "        \"content\": \"Content five\",\n",
      "        \"createdAt\": 1754199671186,\n",
      "        \"updatedAt\": 1754199671201\n",
      "    },\n",
      "    {\n",
      "        \"id\": \"0f71468a-99af-40c8-a613-79a2f8595ff2\",\n",
      "        \"userId\": \"null\",\n",
      "        \"title\": \"7\",\n",
      "        \"content\": \"Content 7\",\n",
      "        \"createdAt\": 1754231649881,\n",
      "        \"updatedAt\": 1754231649941\n",
      "    },\n",
      "    {\n",
      "        \"id\": \"536eb286-b325-49e1-9934-0d13d154d02f\",\n",
      "        \"userId\": \"null\",\n",
      "        \"title\": \"The Alchemist!!\",\n",
      "        \"content\": \"Paulo Coelho wrote this book.\",\n",
      "        \"createdAt\": 1753884424596,\n",
      "        \"updatedAt\": 1754231659157\n",
      "    }\n",
      "]"
     ]
    }
   ],
   "execution_count": 148
  },
  {
   "metadata": {
    "ExecuteTime": {
     "end_time": "2025-08-03T14:34:09.981228Z",
     "start_time": "2025-08-03T14:34:09.495782Z"
    }
   },
   "cell_type": "code",
   "source": [
    "//create note\n",
    "\n",
    "runBlocking {\n",
    "    val newNote = Note(\n",
    "        title = \"7\",\n",
    "        content = \"Content 7\"\n",
    "    )\n",
    "    val postNote = ktorClient.post(\"$baseUrl/notes\"){\n",
    "        headers {\n",
    "            contentType(ContentType.Application.Json)\n",
    "        }\n",
    "        setBody(newNote)\n",
    "    }\n",
    "    println(\"response: $postNote\")\n",
    "    println(\"data: ${postNote.deserializeJson()}\")\n",
    "}"
   ],
   "outputs": [
    {
     "name": "stdout",
     "output_type": "stream",
     "text": [
      "response: HttpResponse[http://127.0.0.1:8081/notes, 200 OK]\n",
      "data: {\"id\":\"0f71468a-99af-40c8-a613-79a2f8595ff2\",\"userId\":\"null\",\"title\":\"7\",\"content\":\"Content 7\",\"createdAt\":1754231649881,\"updatedAt\":1754231649941}\n"
     ]
    }
   ],
   "execution_count": 144
  },
  {
   "metadata": {
    "ExecuteTime": {
     "end_time": "2025-08-03T14:41:20.246342Z",
     "start_time": "2025-08-03T14:41:19.909463Z"
    }
   },
   "cell_type": "code",
   "source": [
    "//update note\n",
    "runBlocking {\n",
    "    val id = \"536eb286-b325-49e1-9934-0d13d154d02f\"\n",
    "    val updatedNote = Note(\n",
    "        title = \"The Alchemist!!\",\n",
    "        content = \"Paulo Coelho wrote this book.\"\n",
    "    )\n",
    "\n",
    "    val result = ktorClient.put(\"$baseUrl/notes/$id\") {\n",
    "        headers {\n",
    "            contentType(ContentType.Application.Json)\n",
    "        }\n",
    "        setBody(updatedNote)\n",
    "    }\n",
    "\n",
    "    println(\"response: $result\")\n",
    "    println(\"data: ${result.prettier()}\")\n",
    "}"
   ],
   "outputs": [
    {
     "name": "stdout",
     "output_type": "stream",
     "text": [
      "response: HttpResponse[http://127.0.0.1:8081/notes/0f71468a-99af-40c8-a613-79a2f8595ff2, 200 OK]\n",
      "data: {\n",
      "    \"id\": \"0f71468a-99af-40c8-a613-79a2f8595ff2\",\n",
      "    \"userId\": \"null\",\n",
      "    \"title\": \"The Alchemist!!\",\n",
      "    \"content\": \"Paulo Coelho wrote this book.\",\n",
      "    \"createdAt\": 1754231649881,\n",
      "    \"updatedAt\": 1754232080224\n",
      "}\n"
     ]
    }
   ],
   "execution_count": 153
  },
  {
   "metadata": {
    "ExecuteTime": {
     "end_time": "2025-08-03T14:42:53.258949Z",
     "start_time": "2025-08-03T14:42:52.760407Z"
    }
   },
   "cell_type": "code",
   "source": [
    "//delete note\n",
    "runBlocking {\n",
    "    val id = \"bacf46e2-b520-4728-b4ce-8a31158fd179\"\n",
    "    val deleteNote = ktorClient.delete(\"$baseUrl/notes/$id\")\n",
    "\n",
    "    println(\"response: $deleteNote\")\n",
    "    println(\"data: ${deleteNote.deserializeJson()}\")\n",
    "}"
   ],
   "outputs": [
    {
     "name": "stdout",
     "output_type": "stream",
     "text": [
      "response: HttpResponse[http://127.0.0.1:8081/notes/bacf46e2-b520-4728-b4ce-8a31158fd179, 200 OK]\n",
      "data: Note deleted.\n"
     ]
    }
   ],
   "execution_count": 155
  },
  {
   "metadata": {},
   "cell_type": "markdown",
   "source": [
    "## Auth Routes\n",
    "```\n",
    "|-login\n",
    "|-register\n",
    "|-check username\n",
    "|-delete user by id\n",
    "|-get all users\n",
    "|-check user\n",
    "```\n",
    "\n",
    "⬇️️️ Please run this block below before running any routes from Public routes. ⬇️"
   ]
  },
  {
   "metadata": {},
   "cell_type": "code",
   "source": [
    "//Ktor Client initialization\n",
    "\n",
    "import io.ktor.client.HttpClient\n",
    "import io.ktor.client.engine.cio.CIO\n",
    "import io.ktor.client.plugins.auth.Auth\n",
    "import io.ktor.client.plugins.auth.providers.BasicAuthCredentials\n",
    "import io.ktor.client.plugins.auth.providers.basic\n",
    "import io.ktor.client.plugins.contentnegotiation.ContentNegotiation\n",
    "import io.ktor.client.request.get\n",
    "import io.ktor.serialization.kotlinx.json.json\n",
    "import io.ktor.client.call.body"
   ],
   "outputs": [],
   "execution_count": null
  },
  {
   "metadata": {
    "ExecuteTime": {
     "end_time": "2025-08-03T14:46:45.770716Z",
     "start_time": "2025-08-03T14:46:44.814195Z"
    }
   },
   "cell_type": "code",
   "source": [
    "//login user\n",
    "@Serializable\n",
    "data class TokenData(\n",
    "    val token: String? = null\n",
    ")\n",
    "\n",
    "var token = TokenData()\n",
    "fun login() {\n",
    "    runBlocking {\n",
    "        val response = ktorClient.get(\"$baseUrl/auth\") {\n",
    "            headers.append(\"Username\", \"martin3\")\n",
    "            headers.append(\"Password\", \"martin1\")\n",
    "        }.body<TokenData>()\n",
    "        token = response\n",
    "    }\n",
    "}\n",
    "//println(\"response: ${token}\")\n",
    "\n",
    "login()\n",
    "\n",
    "val tempp = token.token"
   ],
   "outputs": [],
   "execution_count": 156
  },
  {
   "metadata": {},
   "cell_type": "code",
   "source": [
    "//register a user\n",
    "//import Line_146_jupyter.NeoUser\n",
    "\n",
    "runBlocking {\n",
    "    val newUser = NeoUser(\n",
    "        username = \"martin3\",\n",
    "        password = \"martin1\",\n",
    "        email = \"martin3@g.com\"\n",
    "    )\n",
    "    val response = ktorClient.post(\"$baseUrl/auth\") {\n",
    "        headers {\n",
    "            contentType(ContentType.Application.Json)\n",
    "        }\n",
    "        setBody(newUser)\n",
    "    }\n",
    "    println(\"response: $response\")\n",
    "    println(\"data: ${response.deserializeJson()}\")\n",
    "}"
   ],
   "outputs": [],
   "execution_count": null
  },
  {
   "metadata": {},
   "cell_type": "code",
   "outputs": [],
   "execution_count": null,
   "source": [
    "//check username\n",
    "runBlocking {\n",
    "    val username = ktorClient.get(\"$baseUrl/user/username\") {\n",
    "        headers.append(HttpHeaders.Authorization, \"Bearer $tempp\")\n",
    "    }\n",
    "\n",
    "    println(\"response: $username\")\n",
    "    println(\"data: ${username.deserializeJson()}\")\n",
    "}"
   ]
  },
  {
   "metadata": {},
   "cell_type": "code",
   "source": [
    "// delete a user by id\n",
    "import io.ktor.client.request.headers\n",
    "\n",
    "runBlocking {\n",
    "    val response = ktorClient.delete(\"$baseUrl/auth\") {\n",
    "        headers.append(\"Id\", \"1b677ac8-ad8b-4da4-a29f-6720738f1b5f\")\n",
    "    }\n",
    "    println(\"response: $response\")\n",
    "    println(\"data: ${response.deserializeJson()}\")\n",
    "}"
   ],
   "outputs": [],
   "execution_count": null
  },
  {
   "metadata": {},
   "cell_type": "code",
   "source": [
    "//get all users\n",
    "runBlocking {\n",
    "    val response = ktorClient.get(\"$baseUrl/auth/users\")\n",
    "    println(\"response: $response\")\n",
    "    println(\"data: ${response.deserializeJson()}\")\n",
    "}"
   ],
   "outputs": [],
   "execution_count": null
  },
  {
   "metadata": {},
   "cell_type": "code",
   "source": [
    "//check user\n",
    "runBlocking {\n",
    "    val response = ktorClient.get(\"$baseUrl/auth/check\") {\n",
    "        headers.append(\"Username\", \"martin3\")\n",
    "    }\n",
    "    println(\"response: $response\")\n",
    "    println(\"data: ${response.deserializeJson()}\")\n",
    "}"
   ],
   "outputs": [],
   "execution_count": null
  },
  {
   "metadata": {},
   "cell_type": "markdown",
   "source": [
    "## User Routes\n",
    "```\n",
    "|-get user ID\n",
    "|-get username\n",
    "```\n",
    "\n",
    "⬇️️️ Please run this block below before running any routes from Public routes. ⬇️"
   ]
  },
  {
   "metadata": {
    "ExecuteTime": {
     "end_time": "2025-08-03T14:59:23.569055Z",
     "start_time": "2025-08-03T14:59:23.058174Z"
    }
   },
   "cell_type": "code",
   "source": [
    "//check user\n",
    "runBlocking {\n",
    "    val response = ktorClient.get(\"$baseUrl/user/userid\") {\n",
    "        headers.append(HttpHeaders.Authorization, \"Bearer $tempp\")\n",
    "    }\n",
    "    println(\"response: $response\")\n",
    "    println(\"data: ${response.deserializeJson()}\")\n",
    "}"
   ],
   "outputs": [
    {
     "name": "stdout",
     "output_type": "stream",
     "text": [
      "response: HttpResponse[http://127.0.0.1:8081/user/userid, 200 OK]\n",
      "data: f440ced9-cebc-44f0-b2d5-e7bf11211daf\n"
     ]
    }
   ],
   "execution_count": 169
  },
  {
   "metadata": {
    "ExecuteTime": {
     "end_time": "2025-08-03T14:58:43.352088Z",
     "start_time": "2025-08-03T14:58:42.732280Z"
    }
   },
   "cell_type": "code",
   "source": [
    "//get username\n",
    "runBlocking {\n",
    "    val response = ktorClient.get(\"$baseUrl/user/username\") {\n",
    "        headers.append(HttpHeaders.Authorization, \"Bearer $tempp\")\n",
    "    }\n",
    "    println(\"response: $response\")\n",
    "    println(\"data: ${response.deserializeJson()}\")\n",
    "}"
   ],
   "outputs": [
    {
     "name": "stdout",
     "output_type": "stream",
     "text": [
      "response: HttpResponse[http://127.0.0.1:8081/user/username, 200 OK]\n",
      "data: martin3\n"
     ]
    }
   ],
   "execution_count": 167
  },
  {
   "metadata": {},
   "cell_type": "markdown",
   "source": [
    "## Notes Routes\n",
    "```\n",
    "|-get notes\n",
    "|-create note\n",
    "|-update note\n",
    "|-delete note\n",
    "```\n",
    "\n",
    "⬇️️️ Please run this block below before running any routes from Public routes. ⬇️"
   ]
  },
  {
   "metadata": {},
   "cell_type": "code",
   "outputs": [],
   "execution_count": null,
   "source": [
    "import io.ktor.client.call.body\n",
    "import io.ktor.client.request.post\n",
    "import io.ktor.client.request.setBody\n",
    "import io.ktor.http.ContentType\n",
    "import io.ktor.http.contentType\n",
    "import io.ktor.http.headers"
   ]
  },
  {
   "metadata": {
    "ExecuteTime": {
     "end_time": "2025-08-03T14:49:42.989965Z",
     "start_time": "2025-08-03T14:49:42.235791Z"
    }
   },
   "cell_type": "code",
   "source": [
    "//get notes\n",
    "login()\n",
    "runBlocking {\n",
    "    val notes = ktorClient.get(\"$baseUrl/user/notes\") {\n",
    "        headers.append(HttpHeaders.Authorization, \"Bearer $tempp\")\n",
    "    }.prettier()\n",
    "    print(notes)\n",
    "}"
   ],
   "outputs": [
    {
     "name": "stdout",
     "output_type": "stream",
     "text": [
      "[\n",
      "    {\n",
      "        \"id\": \"f0e7f38f-bcbd-4441-93b2-055a407774ac\",\n",
      "        \"userId\": \"f440ced9-cebc-44f0-b2d5-e7bf11211daf\",\n",
      "        \"title\": \"3\",\n",
      "        \"content\": \"Content 3\",\n",
      "        \"createdAt\": 1754212588329,\n",
      "        \"updatedAt\": 1754212588365\n",
      "    },\n",
      "    {\n",
      "        \"id\": \"3f32f79c-4233-4842-a165-5dcc8fa822dc\",\n",
      "        \"userId\": \"f440ced9-cebc-44f0-b2d5-e7bf11211daf\",\n",
      "        \"title\": \"4\",\n",
      "        \"content\": \"Content 4\",\n",
      "        \"createdAt\": 1754212607654,\n",
      "        \"updatedAt\": 1754212607668\n",
      "    },\n",
      "    {\n",
      "        \"id\": \"385831a4-28d4-4a9b-b878-96fca8d09915\",\n",
      "        \"userId\": \"f440ced9-cebc-44f0-b2d5-e7bf11211daf\",\n",
      "        \"title\": \"6\",\n",
      "        \"content\": \"Content 6\",\n",
      "        \"createdAt\": 1754232567538,\n",
      "        \"updatedAt\": 1754232567584\n",
      "    }\n",
      "]"
     ]
    }
   ],
   "execution_count": 159
  },
  {
   "metadata": {
    "ExecuteTime": {
     "end_time": "2025-08-03T14:49:27.601764Z",
     "start_time": "2025-08-03T14:49:26.729335Z"
    }
   },
   "cell_type": "code",
   "source": [
    "//create note\n",
    "login()\n",
    "runBlocking {\n",
    "    val newNote = Note(\n",
    "        title = \"6\",\n",
    "        content = \"Content 6\"\n",
    "    )\n",
    "    val postNote = ktorClient.post(\"$baseUrl/user/notes\"){\n",
    "        headers {\n",
    "            headers.append(HttpHeaders.Authorization, \"Bearer $tempp\")\n",
    "            contentType(ContentType.Application.Json)\n",
    "        }\n",
    "        setBody(newNote)\n",
    "    }.prettier()\n",
    "    println(\"response: $postNote\")\n",
    "    println(\"data: ${postNote.deserializeJson()}\")\n",
    "}"
   ],
   "outputs": [
    {
     "name": "stdout",
     "output_type": "stream",
     "text": [
      "response: {\n",
      "    \"id\": \"385831a4-28d4-4a9b-b878-96fca8d09915\",\n",
      "    \"userId\": \"f440ced9-cebc-44f0-b2d5-e7bf11211daf\",\n",
      "    \"title\": \"6\",\n",
      "    \"content\": \"Content 6\",\n",
      "    \"createdAt\": 1754232567538,\n",
      "    \"updatedAt\": 1754232567584\n",
      "}\n",
      "data: {\n",
      "    \"id\": \"385831a4-28d4-4a9b-b878-96fca8d09915\",\n",
      "    \"userId\": \"f440ced9-cebc-44f0-b2d5-e7bf11211daf\",\n",
      "    \"title\": \"6\",\n",
      "    \"content\": \"Content 6\",\n",
      "    \"createdAt\": 1754232567538,\n",
      "    \"updatedAt\": 1754232567584\n",
      "}\n"
     ]
    }
   ],
   "execution_count": 158
  },
  {
   "metadata": {
    "ExecuteTime": {
     "end_time": "2025-08-03T14:50:43.465793Z",
     "start_time": "2025-08-03T14:50:42.893566Z"
    }
   },
   "cell_type": "code",
   "source": [
    "//update note\n",
    "runBlocking {\n",
    "    val id = \"3f32f79c-4233-4842-a165-5dcc8fa822dc\"\n",
    "    val updatedNote = Note(\n",
    "        title = \"The Tell Tale Hearts!!\",\n",
    "        content = \"Edgar Allan Poe wrote this.\"\n",
    "    )\n",
    "\n",
    "    val result = ktorClient.put(\"$baseUrl/user/notes/$id\") {\n",
    "        headers {\n",
    "            headers.append(HttpHeaders.Authorization, \"Bearer $tempp\")\n",
    "            contentType(ContentType.Application.Json)\n",
    "        }\n",
    "        setBody(updatedNote)\n",
    "    }\n",
    "\n",
    "    println(\"response: $result\")\n",
    "    println(\"data: ${result.prettier()}\")\n",
    "}"
   ],
   "outputs": [
    {
     "name": "stdout",
     "output_type": "stream",
     "text": [
      "response: HttpResponse[http://127.0.0.1:8081/user/notes/3f32f79c-4233-4842-a165-5dcc8fa822dc, 200 OK]\n",
      "data: {\n",
      "    \"id\": \"3f32f79c-4233-4842-a165-5dcc8fa822dc\",\n",
      "    \"userId\": \"null\",\n",
      "    \"title\": \"The Tell Tale Hearts!!\",\n",
      "    \"content\": \"Edgar Allan Poe wrote this.\",\n",
      "    \"createdAt\": 1754212607654,\n",
      "    \"updatedAt\": 1754232643443\n",
      "}\n"
     ]
    }
   ],
   "execution_count": 160
  },
  {
   "metadata": {
    "ExecuteTime": {
     "end_time": "2025-08-03T14:51:06.738028Z",
     "start_time": "2025-08-03T14:51:06.401146Z"
    }
   },
   "cell_type": "code",
   "source": [
    "//delete note\n",
    "runBlocking {\n",
    "    val id = \"3f32f79c-4233-4842-a165-5dcc8fa822dc\"\n",
    "    val deleteNote = ktorClient.delete(\"$baseUrl/user/notes/$id\") {\n",
    "        headers.append(HttpHeaders.Authorization, \"Bearer $tempp\")\n",
    "    }\n",
    "\n",
    "    println(\"response: $deleteNote\")\n",
    "    println(\"data: ${deleteNote.deserializeJson()}\")\n",
    "}"
   ],
   "outputs": [
    {
     "name": "stdout",
     "output_type": "stream",
     "text": [
      "response: HttpResponse[http://127.0.0.1:8081/user/notes/3f32f79c-4233-4842-a165-5dcc8fa822dc, 200 OK]\n",
      "data: Note deleted.\n"
     ]
    }
   ],
   "execution_count": 161
  }
 ],
 "metadata": {
  "kernelspec": {
   "display_name": "Kotlin",
   "language": "kotlin",
   "name": "kotlin"
  },
  "language_info": {
   "name": "kotlin",
   "version": "2.2.20-dev-4982",
   "mimetype": "text/x-kotlin",
   "file_extension": ".kt",
   "pygments_lexer": "kotlin",
   "codemirror_mode": "text/x-kotlin",
   "nbconvert_exporter": ""
  }
 },
 "nbformat": 4,
 "nbformat_minor": 0
}
