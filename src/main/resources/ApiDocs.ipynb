{
 "cells": [
  {
   "metadata": {},
   "cell_type": "markdown",
   "source": "This is the API documentation for Notes-api"
  },
  {
   "metadata": {
    "collapsed": true,
    "ExecuteTime": {
     "end_time": "2025-07-29T11:46:59.842673Z",
     "start_time": "2025-07-29T11:46:59.802461Z"
    }
   },
   "cell_type": "code",
   "source": [
    "\n",
    "\n",
    "val baseUrl = \"http://127.0.0.1:8081\"\n",
    "\n"
   ],
   "outputs": [],
   "execution_count": 18
  },
  {
   "metadata": {
    "ExecuteTime": {
     "end_time": "2025-07-30T14:07:44.512902Z",
     "start_time": "2025-07-30T14:07:44.337068Z"
    }
   },
   "cell_type": "code",
   "source": [
    "import java.util.UUID\n",
    "\n",
    "@Serializable\n",
    "data class Note(\n",
    "    val id: String? = UUID.randomUUID().toString(),\n",
    "    val title: String?,\n",
    "    val content: String?,\n",
    "    val createdAt: Long? = System.currentTimeMillis(),\n",
    "    val updatedAt: Long? = null\n",
    ")"
   ],
   "outputs": [],
   "execution_count": 92
  },
  {
   "metadata": {
    "ExecuteTime": {
     "end_time": "2025-07-30T09:45:03.835625Z",
     "start_time": "2025-07-30T09:45:03.677724Z"
    }
   },
   "cell_type": "code",
   "source": [
    "//Ktor Client initialization\n",
    "\n",
    "import io.ktor.client.HttpClient\n",
    "import io.ktor.client.plugins.contentnegotiation.ContentNegotiation\n",
    "import io.ktor.client.request.get\n",
    "import io.ktor.serialization.kotlinx.json.json\n",
    "\n",
    "val ktorClient = HttpClient() {\n",
    "    install(ContentNegotiation) { json() }\n",
    "}"
   ],
   "outputs": [],
   "execution_count": 51
  },
  {
   "metadata": {
    "ExecuteTime": {
     "end_time": "2025-07-30T15:49:24.889790Z",
     "start_time": "2025-07-30T15:49:24.428820Z"
    }
   },
   "cell_type": "code",
   "source": [
    "import io.ktor.client.statement.HttpResponse\n",
    "import kotlinx.coroutines.runBlocking\n",
    "\n",
    "// Base URL\n",
    "runBlocking {\n",
    "    val lol = ktorClient.get(baseUrl)\n",
    "    print(lol.deserializeJson())\n",
    "}"
   ],
   "outputs": [
    {
     "name": "stdout",
     "output_type": "stream",
     "text": [
      "Hello World"
     ]
    }
   ],
   "execution_count": 114
  },
  {
   "metadata": {
    "ExecuteTime": {
     "end_time": "2025-07-30T15:50:22.787918Z",
     "start_time": "2025-07-30T15:50:22.469135Z"
    }
   },
   "cell_type": "code",
   "source": [
    "//get notes\n",
    "runBlocking {\n",
    "    val notes = ktorClient.get(\"$baseUrl/notes\")\n",
    "    println(\"response: $notes\")\n",
    "    println(\"data: ${notes.deserializeJson()}\")\n",
    "}"
   ],
   "outputs": [
    {
     "name": "stdout",
     "output_type": "stream",
     "text": [
      "response: HttpResponse[http://127.0.0.1:8081/notes, 200 OK]\n",
      "data: [{\"id\":\"433a1af4-bf84-485f-bb78-72e8b66873c1\",\"title\":\"Legend\",\"content\":\"hahahahah\",\"createdAt\":1753873160151,\"updatedAt\":1753873181963},{\"id\":\"eaafdb26-f7f1-4de5-94a1-0723cbf74ad3\",\"title\":\"Two\",\"content\":\"Content two\",\"createdAt\":1753884344531,\"updatedAt\":1753884344580},{\"id\":\"e266ac44-0757-4e69-906e-c4ab9ac86607\",\"title\":\"Four\",\"content\":\"Content four\",\"createdAt\":1753889994091,\"updatedAt\":1753889994111},{\"id\":\"536eb286-b325-49e1-9934-0d13d154d02f\",\"title\":\"The Alchemist!!\",\"content\":\"Paulo Coelho wrote this book.\",\"createdAt\":1753884424596,\"updatedAt\":1753890595193}]\n"
     ]
    }
   ],
   "execution_count": 118
  },
  {
   "metadata": {
    "ExecuteTime": {
     "end_time": "2025-07-30T15:39:54.157799Z",
     "start_time": "2025-07-30T15:39:53.772305Z"
    }
   },
   "cell_type": "code",
   "source": [
    "import io.ktor.client.call.body\n",
    "import io.ktor.client.request.post\n",
    "import io.ktor.client.request.setBody\n",
    "import io.ktor.http.ContentType\n",
    "import io.ktor.http.contentType\n",
    "import io.ktor.http.headers\n",
    "import Line_82_jupyter.Note\n",
    "\n",
    "//create note\n",
    "runBlocking {\n",
    "    val newNote = Note(\n",
    "        title = \"Four\",\n",
    "        content = \"Content four\"\n",
    "    )\n",
    "    val postNote = ktorClient.post(\"$baseUrl/notes\"){\n",
    "        headers {\n",
    "            contentType(ContentType.Application.Json)\n",
    "        }\n",
    "        setBody(newNote)\n",
    "    }\n",
    "    println(\"response: $postNote\")\n",
    "    println(\"data: ${postNote.deserializeJson()}\")\n",
    "}"
   ],
   "outputs": [
    {
     "name": "stdout",
     "output_type": "stream",
     "text": [
      "response: HttpResponse[http://127.0.0.1:8081/notes, 200 OK]\n",
      "data: {\"id\":\"e266ac44-0757-4e69-906e-c4ab9ac86607\",\"title\":\"Four\",\"content\":\"Content four\",\"createdAt\":1753889994091,\"updatedAt\":1753889994111}\n"
     ]
    }
   ],
   "execution_count": 109
  },
  {
   "metadata": {
    "ExecuteTime": {
     "end_time": "2025-07-30T15:49:55.224271Z",
     "start_time": "2025-07-30T15:49:54.845535Z"
    }
   },
   "cell_type": "code",
   "source": [
    "import Line_82_jupyter.Note\n",
    "import io.ktor.client.request.put\n",
    "\n",
    "//update note\n",
    "runBlocking {\n",
    "    val id = \"536eb286-b325-49e1-9934-0d13d154d02f\"\n",
    "    val updatedNote = Note(\n",
    "        title = \"The Alchemist!!\",\n",
    "        content = \"Paulo Coelho wrote this book.\"\n",
    "    )\n",
    "\n",
    "    val result = ktorClient.put(\"$baseUrl/notes/$id\") {\n",
    "        headers {\n",
    "            contentType(ContentType.Application.Json)\n",
    "        }\n",
    "        setBody(updatedNote)\n",
    "    }\n",
    "\n",
    "    println(\"response: $result\")\n",
    "    println(\"data: ${result.deserializeJson()}\")\n",
    "}"
   ],
   "outputs": [
    {
     "name": "stdout",
     "output_type": "stream",
     "text": [
      "response: HttpResponse[http://127.0.0.1:8081/notes/536eb286-b325-49e1-9934-0d13d154d02f, 200 OK]\n",
      "data: {\"id\":\"536eb286-b325-49e1-9934-0d13d154d02f\",\"title\":\"The Alchemist!!\",\"content\":\"Paulo Coelho wrote this book.\",\"createdAt\":1753884424596,\"updatedAt\":1753890595193}\n"
     ]
    }
   ],
   "execution_count": 116
  },
  {
   "metadata": {
    "ExecuteTime": {
     "end_time": "2025-07-30T14:53:40.024194Z",
     "start_time": "2025-07-30T14:53:39.792092Z"
    }
   },
   "cell_type": "code",
   "source": [
    "import io.ktor.client.request.delete\n",
    "\n",
    "//delete note\n",
    "runBlocking {\n",
    "    val id = \"576e8f7f-9089-445b-8992-15fa839e2456\"\n",
    "    val deleteNote = ktorClient.delete(\"$baseUrl/notes/$id\")\n",
    "\n",
    "    println(\"response: $deleteNote\")\n",
    "    println(\"data: ${deleteNote.deserializeJson()}\")\n",
    "}"
   ],
   "outputs": [
    {
     "name": "stdout",
     "output_type": "stream",
     "text": [
      "response: HttpResponse[http://127.0.0.1:8081/notes/576e8f7f-9089-445b-8992-15fa839e2456, 200 OK]\n",
      "data: Note deleted.\n"
     ]
    }
   ],
   "execution_count": 105
  }
 ],
 "metadata": {
  "kernelspec": {
   "display_name": "Kotlin",
   "language": "kotlin",
   "name": "kotlin"
  },
  "language_info": {
   "name": "kotlin",
   "version": "2.2.20-dev-4982",
   "mimetype": "text/x-kotlin",
   "file_extension": ".kt",
   "pygments_lexer": "kotlin",
   "codemirror_mode": "text/x-kotlin",
   "nbconvert_exporter": ""
  }
 },
 "nbformat": 4,
 "nbformat_minor": 0
}
